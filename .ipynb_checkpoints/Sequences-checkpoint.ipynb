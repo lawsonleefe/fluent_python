{
 "cells": [
  {
   "cell_type": "markdown",
   "metadata": {},
   "source": [
    "# An Array of Sequences\n",
    "\n",
    "Diagram of some classes from collections.abc\n",
    "\n",
    "<img src=\"sequences.png\" width=50%>"
   ]
  },
  {
   "cell_type": "markdown",
   "metadata": {},
   "source": [
    "## List Comprehensions & Generator Expressions\n",
    "##### Readability"
   ]
  },
  {
   "cell_type": "code",
   "execution_count": 12,
   "metadata": {},
   "outputs": [],
   "source": [
    "symbols = '$£€¥'\n",
    "codes = []\n",
    "for symbol in symbols:\n",
    "    codes.append(ord(symbol))\n",
    "\n",
    "# exactly the same as\n",
    "\n",
    "codes = [ord(symbol) for symbol in symbols]"
   ]
  },
  {
   "cell_type": "markdown",
   "metadata": {},
   "source": [
    "##### Listcomps vs map & filter\n",
    "Listcomps are generally quicker and easier to read"
   ]
  },
  {
   "cell_type": "code",
   "execution_count": 11,
   "metadata": {},
   "outputs": [
    {
     "name": "stdout",
     "output_type": "stream",
     "text": [
      "1.1 µs ± 33.8 ns per loop (mean ± std. dev. of 7 runs, 1000000 loops each)\n",
      "1.78 µs ± 107 ns per loop (mean ± std. dev. of 7 runs, 1000000 loops each)\n"
     ]
    }
   ],
   "source": [
    "%timeit [ord(symbol) for symbol in symbols if ord(symbol) > 127]\n",
    "%timeit list(filter(lambda c: c>127, map(ord, symbols)))"
   ]
  },
  {
   "cell_type": "markdown",
   "metadata": {},
   "source": [
    "##### Cartesian Products & Listcomps\n",
    "\n",
    "<img src='cartesian.png' width='40%'>\n",
    "\n",
    "Note in the example below how changing the order of the iteration / nesting changes the result"
   ]
  },
  {
   "cell_type": "code",
   "execution_count": 19,
   "metadata": {},
   "outputs": [
    {
     "name": "stdout",
     "output_type": "stream",
     "text": [
      "[('black', 'S'), ('black', 'M'), ('black', 'L'), ('white', 'S'), ('white', 'M'), ('white', 'L')]\n",
      "[('black', 'S'), ('white', 'S'), ('black', 'M'), ('white', 'M'), ('black', 'L'), ('white', 'L')]\n"
     ]
    }
   ],
   "source": [
    "colours = ['black', 'white']\n",
    "sizes = ['S', 'M', 'L']\n",
    "tshirts = [(c, s)  for c in colours \n",
    "                   for s in sizes]\n",
    "\n",
    "tshirts_reversed = [(c, s) for s in sizes \n",
    "                           for c in colours]\n",
    "\n",
    "print(tshirts)\n",
    "print(tshirts_reversed)"
   ]
  },
  {
   "cell_type": "markdown",
   "metadata": {},
   "source": [
    "#### Generator Expressions\n",
    "Listcomps only build lists whereas we may want to build up sequences of other types. If so, we need to used generator expressions\n",
    "\n",
    "<br/>\n",
    "A generator saves memory because it yields items one by one using an iterator rather than building a whole list.\n",
    "\n",
    "<br/>\n",
    "The syntax is exactly the same as liscomps albeit we use () instead of []"
   ]
  },
  {
   "cell_type": "code",
   "execution_count": 24,
   "metadata": {},
   "outputs": [
    {
     "name": "stdout",
     "output_type": "stream",
     "text": [
      "(36, 163, 8364, 165)\n",
      "black, S\n",
      "black, M\n",
      "black, L\n",
      "white, S\n",
      "white, M\n",
      "white, L\n"
     ]
    }
   ],
   "source": [
    "print(tuple(ord(symbol) for symbol in symbols))\n",
    "\n",
    "for tshirt in (f'{c}, {s}' for c in colours for s in sizes):\n",
    "    print(tshirt)"
   ]
  },
  {
   "cell_type": "markdown",
   "metadata": {},
   "source": [
    "## Tuples\n",
    "\n",
    "<br />\n",
    "We can do everything with tuples that we can with lists except for adding / removing items\n",
    "\n",
    "\n",
    "#####  Tuples as records\n",
    "<br />\n",
    "Tuples aren't just immutable lists: their order is often important as they can hold records. The number and order of fields is also often fixed. Note that if we were to sort within a tuple, the order would change and destroy the information we want to read"
   ]
  },
  {
   "cell_type": "code",
   "execution_count": 28,
   "metadata": {},
   "outputs": [
    {
     "name": "stdout",
     "output_type": "stream",
     "text": [
      "ESP/9874363\n",
      "GBR/3119823\n",
      "USA/4327813\n",
      "GBR\n",
      "USA\n",
      "ESP\n"
     ]
    }
   ],
   "source": [
    "coords = (33.9538, -118.4089)\n",
    "city, year, pop, chg, area = ('London', 2018, 45832, 0.12, 1321)\n",
    "traveler_ids = [('GBR', '3119823'), ('USA', '4327813'), ('ESP', '9874363')]\n",
    "for passport in sorted(traveler_ids):\n",
    "    print('%s/%s' % passport)\n",
    "\n",
    "for country, _ in traveler_ids:\n",
    "    print(country)"
   ]
  },
  {
   "cell_type": "markdown",
   "metadata": {},
   "source": [
    "#### Unpacking\n",
    "The example below utilises 'parallel assignment'"
   ]
  },
  {
   "cell_type": "code",
   "execution_count": 29,
   "metadata": {},
   "outputs": [
    {
     "name": "stdout",
     "output_type": "stream",
     "text": [
      "33.9538 -118.4089\n"
     ]
    }
   ],
   "source": [
    "lat, long = coords\n",
    "print(lat, long)"
   ]
  },
  {
   "cell_type": "markdown",
   "metadata": {},
   "source": [
    "We can also unpack using * notation as follows"
   ]
  },
  {
   "cell_type": "code",
   "execution_count": 35,
   "metadata": {},
   "outputs": [
    {
     "name": "stdout",
     "output_type": "stream",
     "text": [
      "(2, 4)\n",
      "(2, 4)\n",
      "2 4\n"
     ]
    }
   ],
   "source": [
    "t = (20, 8)\n",
    "\n",
    "print(divmod(20, 8))\n",
    "print(divmod(*t))\n",
    "\n",
    "quotient, remainder = divmod(*t)\n",
    "print(quotient, remainder)"
   ]
  },
  {
   "cell_type": "markdown",
   "metadata": {},
   "source": [
    "Unpacking function parameters with *args to grab any extra arguments is a commonly used python feature\n",
    "\n",
    "We can also use this to apply to parallel assignment as follows:"
   ]
  },
  {
   "cell_type": "code",
   "execution_count": 40,
   "metadata": {},
   "outputs": [
    {
     "name": "stdout",
     "output_type": "stream",
     "text": [
      "[2, 3, 4] 0 1\n",
      "[0, 1, 2, 3] 4 5\n"
     ]
    }
   ],
   "source": [
    "a, b, *rest = range(5)\n",
    "*head, c, d = range(6)\n",
    "\n",
    "print(rest, a, b)\n",
    "print(head, c, d)"
   ]
  },
  {
   "cell_type": "markdown",
   "metadata": {},
   "source": [
    "#### Nested Tuple Unpacking\n",
    "\n",
    "Below, we unpack the tuple contained within the tuple at the point at which we iterate through"
   ]
  },
  {
   "cell_type": "code",
   "execution_count": 50,
   "metadata": {},
   "outputs": [
    {
     "name": "stdout",
     "output_type": "stream",
     "text": [
      "           |   lat.    |   long.  \n",
      "Sao Paulo  | -23.5478  | -46.6358 \n"
     ]
    }
   ],
   "source": [
    "metro_areas = [ ('Tokyo', 'JP', 36.93, (35.689722, 139.691667)),\n",
    "                ('Delhi', 'IN', 21.93, (28.613889, 77.208889)),\n",
    "                ('Sao Paulo', 'BR', 19.649, (-23.547778, -46.635833))\n",
    "              ]\n",
    "print('{:10} | {:^9} | {:^9}'.format('', 'lat.', 'long.'))\n",
    "fmt = '{:10} | {:^9.4f} | {:^9.4f}'\n",
    "for name, cc, pop, (lat, long) in metro_areas:\n",
    "    if long <= 0:\n",
    "        print(fmt.format(name, lat, long))"
   ]
  },
  {
   "cell_type": "markdown",
   "metadata": {},
   "source": [
    "#### Named Tuples\n",
    "\n",
    "Named tuples take up the same amount of memory as tuples as the field names are saved in the class we define at the start. As a result, they use less memory than a regular object.\n",
    "\n",
    "<br/>\n",
    "We can access the fields by either name (City.thing) or position (City[1])\n",
    "\n",
    "<br/>\n",
    "Named tuples also have a couple of cool features which regular tuples don't have:\n",
    "\n",
    "    ._fields\n",
    "returns a list of all fields, a bit like dict.keys()\n",
    "\n",
    "    ._make()\n",
    "instatiate a named tuple from an iterable, same as City(*delhi) below\n",
    "\n",
    "    ._asdict()\n",
    "returns a collections.OrderedDict\n"
   ]
  },
  {
   "cell_type": "code",
   "execution_count": 69,
   "metadata": {},
   "outputs": [
    {
     "name": "stdout",
     "output_type": "stream",
     "text": [
      "City(name='Tokyo', country='JP', pop=36.93, coords=(35.689722, 139.691667))\n",
      "(35.689722, 139.691667)\n",
      "JP\n",
      "City(name='Delhi', country='IN', pop=21.93, coords=(28.613889, 77.208889)) City(name='Delhi', country='IN', pop=21.93, coords=(28.613889, 77.208889))\n",
      "OrderedDict([('name', 'Tokyo'), ('country', 'JP'), ('pop', 36.93), ('coords', (35.689722, 139.691667))])\n"
     ]
    }
   ],
   "source": [
    "from collections import namedtuple\n",
    "\n",
    "'''\n",
    "Note below, we have only 2 parameters. \n",
    "The second parameter can either be an iterable or a space separated list of field names\n",
    "'''\n",
    "City = namedtuple('City', 'name country pop coords')\n",
    "\n",
    "fields = ('name', 'country', 'pop', 'coords')\n",
    "City = namedtuple('City', fields)\n",
    "\n",
    "tokyo = City('Tokyo', 'JP', 36.93, (35.689722, 139.691667))\n",
    "delhi = ('Delhi', 'IN', 21.93, (28.613889, 77.208889))\n",
    "\n",
    "print(tokyo)\n",
    "print(tokyo.coords)\n",
    "print(tokyo[1])\n",
    "print(City._make(delhi), City(*delhi))\n",
    "print(tokyo._asdict())"
   ]
  },
  {
   "cell_type": "code",
   "execution_count": 61,
   "metadata": {},
   "outputs": [
    {
     "data": {
      "text/plain": [
       "('name', 'country', 'pop', 'coords')"
      ]
     },
     "execution_count": 61,
     "metadata": {},
     "output_type": "execute_result"
    }
   ],
   "source": [
    "City._fields"
   ]
  },
  {
   "cell_type": "code",
   "execution_count": 72,
   "metadata": {},
   "outputs": [
    {
     "data": {
      "text/plain": [
       "City(name='Delhi', country='IN', pop=21.93, coords=(28.613889, 77.208889))"
      ]
     },
     "execution_count": 72,
     "metadata": {},
     "output_type": "execute_result"
    }
   ],
   "source": [
    "City(*delhi)"
   ]
  },
  {
   "cell_type": "markdown",
   "metadata": {},
   "source": [
    "## Slicing"
   ]
  },
  {
   "cell_type": "markdown",
   "metadata": {},
   "source": [
    "#### Slice Objects\n",
    "\n",
    "s[a:b:c] ---> c specifies the 'stride' or how many items should be skipped each time. It can also be negative meaning we return items in reverse"
   ]
  },
  {
   "cell_type": "code",
   "execution_count": 82,
   "metadata": {},
   "outputs": [
    {
     "name": "stdout",
     "output_type": "stream",
     "text": [
      "bye\n",
      "elcycib\n",
      "eccb\n",
      "cyc\n"
     ]
    }
   ],
   "source": [
    "s = 'bicycle'\n",
    "print(s[::3]) # jumping forward by 3 items each time\n",
    "print(s[::-1]) # reversing\n",
    "print(s[::-2]) # skipping every second item in reverse\n",
    "print(s[2:5]) # from item in position 2 up until item in position 5. Note that this is inclusive of 2 but NOT item at index 5."
   ]
  },
  {
   "cell_type": "markdown",
   "metadata": {},
   "source": [
    "#### Assigning to Slices"
   ]
  },
  {
   "cell_type": "code",
   "execution_count": null,
   "metadata": {},
   "outputs": [],
   "source": []
  }
 ],
 "metadata": {
  "kernelspec": {
   "display_name": "Python 3",
   "language": "python",
   "name": "python3"
  },
  "language_info": {
   "codemirror_mode": {
    "name": "ipython",
    "version": 3
   },
   "file_extension": ".py",
   "mimetype": "text/x-python",
   "name": "python",
   "nbconvert_exporter": "python",
   "pygments_lexer": "ipython3",
   "version": "3.7.4"
  }
 },
 "nbformat": 4,
 "nbformat_minor": 2
}
