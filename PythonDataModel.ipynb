{
 "cells": [
  {
   "cell_type": "markdown",
   "metadata": {},
   "source": [
    "# Python Data Model (or Object Model)\n",
    "<br/>\n",
    "\n",
    "###  Pythonic Card Deck\n",
    "\n",
    "In python we use  '_ _ x _ _'  or \"dunder\" for double underscore to denote \"special methods\". These special methods make it easier to interact with classes as we don't need to remember individual method names. Instead, we can interact with them by calling things we know like len() for use indexing etc.\n",
    "\n",
    "A leading underscore _x is used to denote weak internal Class variables, i.e, it's not something we'll use outside of this class"
   ]
  },
  {
   "cell_type": "code",
   "execution_count": 94,
   "metadata": {},
   "outputs": [],
   "source": [
    "import collections\n",
    "from random import choice\n",
    "import doctest\n",
    "from math import hypot"
   ]
  },
  {
   "cell_type": "code",
   "execution_count": 95,
   "metadata": {},
   "outputs": [],
   "source": [
    "Card = collections.namedtuple('Card', ['rank', 'suit'])\n",
    "\n",
    "class FrenchDeck:\n",
    "    ranks = [str(n) for n in range(2, 11)] + list('JQKA')\n",
    "    suits = 'spades diamonds clubs hearts'.split()\n",
    "    \n",
    "    def __init__(self):\n",
    "        '''\n",
    "        initiates the class with a deck consisting of a cards with all ranks and suits\n",
    "        '''\n",
    "        self._cards = [Card(rank, suit) for suit in self.suits\n",
    "                                        for rank in self.ranks]\n",
    "        \n",
    "    def __len__(self):\n",
    "        '''\n",
    "        returns the length of the deck (or _card in this case)\n",
    "        '''\n",
    "        return len(self._cards)\n",
    "    \n",
    "    def __getitem__(self, position):\n",
    "        '''\n",
    "        utilises the internal magic method __getitem__ in order to provide special functions\n",
    "        like indexing, slicing\n",
    "        '''\n",
    "        return self._cards[position]\n",
    "    \n",
    "    def size(self):\n",
    "        return len(self._cards)"
   ]
  },
  {
   "cell_type": "markdown",
   "metadata": {},
   "source": [
    "### Benefits\n",
    "\n",
    "The dunder getitem method means we can treat our FrenchDeck class like any other python list. It is iterable, supports slicing / indexing etc.\n",
    "\n",
    "<br/>\n",
    "Likewise, the dunder len method means we can now just call len(deck) directly rather than having to remember some other method we might have implemented like the 'size' method."
   ]
  },
  {
   "cell_type": "code",
   "execution_count": 96,
   "metadata": {},
   "outputs": [
    {
     "name": "stdout",
     "output_type": "stream",
     "text": [
      "Card(rank='2', suit='spades')\n",
      "[Card(rank='2', suit='spades'), Card(rank='3', suit='spades'), Card(rank='4', suit='spades')]\n",
      "True\n",
      "Card(rank='K', suit='diamonds')\n",
      "52\n",
      "52\n"
     ]
    }
   ],
   "source": [
    "deck = FrenchDeck()\n",
    "\n",
    "# __getitem__ means we can treat deck just like a normal list! It's iterable and supports slicing / indexing etc.\n",
    "print(deck[0])\n",
    "print(deck[:3])\n",
    "print(Card('Q', 'hearts') in deck)\n",
    "\n",
    "# Here, we can use other methods from the python standard library because we used __getitem__\n",
    "print(choice(deck))\n",
    "\n",
    "# See how these two are equivalent? We can't call len(deck) if not for __len__(self) method. Otherwise, we'd have to call deck.size()\n",
    "print(len(deck))\n",
    "print(deck.size())"
   ]
  },
  {
   "cell_type": "code",
   "execution_count": 97,
   "metadata": {},
   "outputs": [
    {
     "name": "stdout",
     "output_type": "stream",
     "text": [
      "Card(rank='2', suit='spades')\n",
      "Card(rank='3', suit='spades')\n",
      "Card(rank='4', suit='spades')\n",
      "Card(rank='5', suit='spades')\n",
      "Card(rank='6', suit='spades')\n"
     ]
    }
   ],
   "source": [
    "suit_values = dict(spades=3, hearts=2, diamonds=1, clubs=0)\n",
    "\n",
    "def spades_high(card):\n",
    "    '''\n",
    "    here, we retrieve the index of a card by it's rank --> where card is Card(rank='x', suit='y') and card.rank = x\n",
    "    we then return this * len(suit_values) (in this case, 4) + the value which the card's suit is mapped to in the suit_values dictionary\n",
    "    \n",
    "    Example:\n",
    "    \n",
    "    card = Card(rank='2', suit='hearts')\n",
    "    rank_value = 0, suit_values[card.suit] = 2, len(suit_values) = 4\n",
    "    returns (0 * 4) + 2 = 15\n",
    "    '''\n",
    "    rank_value = FrenchDeck.ranks.index(card.rank)\n",
    "    return rank_value * len(suit_values) + suit_values[card.suit]\n",
    "\n",
    "for card in sorted(deck[:5], key=spades_high):\n",
    "    print(card)"
   ]
  },
  {
   "cell_type": "markdown",
   "metadata": {},
   "source": [
    "### How Special Methods Are Used\n",
    "Special methods allow us to define what our class does as soon as a standard function.\n",
    "By implementing special methods, objects we create can behave just like the built-in types and are therefore more natural to deal with.\n",
    "\n",
    "\n",
    "    __repr__\n",
    "This is the string 'representation' of the object. If we didn't implement this, we'd get back the usual <Vector object at 0x10e10070>\n",
    "\n",
    "<br/>\n",
    "\n",
    "    __abs__\n",
    "It converts any negative is converted to a positive number, the absolute value. This customises the normal behaviour as we've introduced hypot.\n",
    "\n",
    "<br/>\n",
    "\n",
    "    __bool__\n",
    "Note how we pass through 'abs'. By default, user-defined classes are True unless either dunder bool or dunder len is implemented. If bool isn't implemented, python tries to x._ _ len _ _() which if it's 0, returns False. The way _ _ bool _ _ is used here, we convert to an absolute and return so unless the vector's magnitude is 0, bool will return True. Without this, calling \n",
    "    \n",
    "    bool(Vector(0,0)) \n",
    "would be True\n",
    "\n",
    "<br/>\n",
    "\n",
    "    __mul__ and __add__\n",
    "The most basic example is '__add__(). It is called every time when two objects are added (using the syntax object + object). It might look weird, but because everything is an object in python (even a number), instead of print(5+6) you can also write print((5).__add__(6)) and get the same result."
   ]
  },
  {
   "cell_type": "code",
   "execution_count": 124,
   "metadata": {},
   "outputs": [
    {
     "data": {
      "text/plain": [
       "False"
      ]
     },
     "execution_count": 124,
     "metadata": {},
     "output_type": "execute_result"
    }
   ],
   "source": [
    "class Vector:\n",
    "    def __init__(self, x=0, y=0):\n",
    "        self.x = x\n",
    "        self.y = y\n",
    "    \n",
    "    def __repr__(self):\n",
    "        return f'Vector({self.x}, {self.y})'\n",
    "    \n",
    "    def __abs__(self):\n",
    "        return hypot(self.x, self.y)\n",
    "    \n",
    "    def __bool__(self):\n",
    "        return bool(abs(self))\n",
    "    \n",
    "    def __add__(self, other):\n",
    "        x = self.x + other.x\n",
    "        y = self.y + other.y\n",
    "        return Vector(x, y)\n",
    "    \n",
    "    def __mul__(self, scalar):\n",
    "        return Vector(self.x * scalar, self.y * scalar)\n",
    "\n",
    "x = bool(Vector(0, 0))\n",
    "x"
   ]
  }
 ],
 "metadata": {
  "kernelspec": {
   "display_name": "Python 3",
   "language": "python",
   "name": "python3"
  },
  "language_info": {
   "codemirror_mode": {
    "name": "ipython",
    "version": 3
   },
   "file_extension": ".py",
   "mimetype": "text/x-python",
   "name": "python",
   "nbconvert_exporter": "python",
   "pygments_lexer": "ipython3",
   "version": "3.7.4"
  }
 },
 "nbformat": 4,
 "nbformat_minor": 2
}
